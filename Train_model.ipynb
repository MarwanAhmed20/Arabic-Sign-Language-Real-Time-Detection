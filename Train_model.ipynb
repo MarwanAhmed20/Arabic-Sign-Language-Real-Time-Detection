{
  "cells": [
    {
      "cell_type": "markdown",
      "source": [
        "# Import Libraries"
      ],
      "metadata": {
        "id": "EdwIih31pvjR"
      },
      "id": "EdwIih31pvjR"
    },
    {
      "cell_type": "code",
      "execution_count": null,
      "id": "7956bc3e",
      "metadata": {
        "id": "7956bc3e"
      },
      "outputs": [],
      "source": [
        "import cv2\n",
        "import numpy as np\n",
        "import os\n",
        "from matplotlib import pyplot as plt\n",
        "import time\n",
        "import mediapipe as mp"
      ]
    },
    {
      "cell_type": "code",
      "source": [
        "from tensorflow.keras.models import Sequential\n",
        "from tensorflow.keras.layers import LSTM, Dense\n",
        "from tensorflow.keras.callbacks import TensorBoard\n",
        "import tensorflow as tf\n",
        "tf.random.set_seed(1)"
      ],
      "metadata": {
        "id": "2YaPPqNZqEIR"
      },
      "id": "2YaPPqNZqEIR",
      "execution_count": null,
      "outputs": []
    },
    {
      "cell_type": "code",
      "execution_count": null,
      "id": "282c9803",
      "metadata": {
        "id": "282c9803"
      },
      "outputs": [],
      "source": [
        "import arabic_reshaper\n",
        "from bidi.algorithm import get_display\n",
        "import numpy as np\n",
        "from PIL import ImageFont, ImageDraw, Image"
      ]
    },
    {
      "cell_type": "markdown",
      "source": [
        "# Extract key points of body using mediapipe"
      ],
      "metadata": {
        "id": "oIUk-5gwqNuG"
      },
      "id": "oIUk-5gwqNuG"
    },
    {
      "cell_type": "code",
      "execution_count": null,
      "id": "784c7c6a",
      "metadata": {
        "id": "784c7c6a"
      },
      "outputs": [],
      "source": [
        "mp_holistic = mp.solutions.holistic # Holistic model\n",
        "mp_drawing = mp.solutions.drawing_utils # Drawing utilities"
      ]
    },
    {
      "cell_type": "code",
      "execution_count": null,
      "id": "84c9176c",
      "metadata": {
        "id": "84c9176c"
      },
      "outputs": [],
      "source": [
        "def mediapipe_detection(image, model):\n",
        "    image = cv2.cvtColor(image, cv2.COLOR_BGR2RGB) # COLOR CONVERSION BGR 2 RGB\n",
        "    image.flags.writeable = False                  # Image is no longer writeable\n",
        "    results = model.process(image)                 # Make prediction\n",
        "    image.flags.writeable = True                   # Image is now writeable\n",
        "    image = cv2.cvtColor(image, cv2.COLOR_RGB2BGR) # COLOR COVERSION RGB 2 BGR\n",
        "    return image, results"
      ]
    },
    {
      "cell_type": "code",
      "execution_count": null,
      "id": "021858e8",
      "metadata": {
        "id": "021858e8"
      },
      "outputs": [],
      "source": [
        "def draw_landmarks(image, results):\n",
        "    mp_drawing.draw_landmarks(image, results.face_landmarks, mp_holistic.FACE_CONNECTIONS) # Draw face connections\n",
        "    mp_drawing.draw_landmarks(image, results.pose_landmarks, mp_holistic.POSE_CONNECTIONS) # Draw pose connections\n",
        "    mp_drawing.draw_landmarks(image, results.left_hand_landmarks, mp_holistic.HAND_CONNECTIONS) # Draw left hand connections\n",
        "    mp_drawing.draw_landmarks(image, results.right_hand_landmarks, mp_holistic.HAND_CONNECTIONS) # Draw right hand connections"
      ]
    },
    {
      "cell_type": "code",
      "execution_count": null,
      "id": "dea9eb6a",
      "metadata": {
        "id": "dea9eb6a"
      },
      "outputs": [],
      "source": [
        "def draw_styled_landmarks(image, results):\n",
        "    # Draw face connections\n",
        "    mp_drawing.draw_landmarks(image, results.face_landmarks, mp_holistic.FACEMESH_TESSELATION,\n",
        "                             mp_drawing.DrawingSpec(color=(80,110,10), thickness=1, circle_radius=1),\n",
        "                             mp_drawing.DrawingSpec(color=(80,256,121), thickness=1, circle_radius=1)\n",
        "                             )\n",
        "    # Draw pose connections\n",
        "    mp_drawing.draw_landmarks(image, results.pose_landmarks, mp_holistic.POSE_CONNECTIONS,\n",
        "                             mp_drawing.DrawingSpec(color=(80,22,10), thickness=2, circle_radius=4),\n",
        "                             mp_drawing.DrawingSpec(color=(80,44,121), thickness=2, circle_radius=2)\n",
        "                             )\n",
        "    # Draw left hand connections\n",
        "    mp_drawing.draw_landmarks(image, results.left_hand_landmarks, mp_holistic.HAND_CONNECTIONS,\n",
        "                             mp_drawing.DrawingSpec(color=(121,22,76), thickness=2, circle_radius=4),\n",
        "                             mp_drawing.DrawingSpec(color=(121,44,250), thickness=2, circle_radius=2)\n",
        "                             )\n",
        "    # Draw right hand connections\n",
        "    mp_drawing.draw_landmarks(image, results.right_hand_landmarks, mp_holistic.HAND_CONNECTIONS,\n",
        "                             mp_drawing.DrawingSpec(color=(245,117,66), thickness=2, circle_radius=4),\n",
        "                             mp_drawing.DrawingSpec(color=(245,66,230), thickness=2, circle_radius=2)\n",
        "                             )"
      ]
    },
    {
      "cell_type": "code",
      "execution_count": null,
      "id": "be40ec57",
      "metadata": {
        "id": "be40ec57"
      },
      "outputs": [],
      "source": [
        "def extract_keypoints(results):\n",
        "    pose = np.array([[res.x, res.y, res.z, res.visibility] for res in results.pose_landmarks.landmark]).flatten() if results.pose_landmarks else np.zeros(33*4)\n",
        "    face = np.array([[res.x, res.y, res.z] for res in results.face_landmarks.landmark]).flatten() if results.face_landmarks else np.zeros(468*3)\n",
        "    lh = np.array([[res.x, res.y, res.z] for res in results.left_hand_landmarks.landmark]).flatten() if results.left_hand_landmarks else np.zeros(21*3)\n",
        "    rh = np.array([[res.x, res.y, res.z] for res in results.right_hand_landmarks.landmark]).flatten() if results.right_hand_landmarks else np.zeros(21*3)\n",
        "    return np.concatenate([pose, face, lh, rh])"
      ]
    },
    {
      "cell_type": "markdown",
      "source": [
        "# Set [action] list of 25 Arabic words"
      ],
      "metadata": {
        "id": "N0ZaENnBqRxa"
      },
      "id": "N0ZaENnBqRxa"
    },
    {
      "cell_type": "code",
      "execution_count": null,
      "id": "c822792b",
      "metadata": {
        "id": "c822792b"
      },
      "outputs": [],
      "source": [
        "# Path for exported data, numpy arrays\n",
        "DATA_PATH = os.path.join('final_data')\n",
        "\n",
        "# Actions that we try to detect\n",
        "# actions = np.array(['hello', 'see you later', 'i','father','mother','yes','no','help','please','thank you','want','what','dog','cat','again','food','milk','more','goto','bathroom','fine','like','learn','sign','finish'])\n",
        "actions = np.array([\"اهلا\" ,\"اراك-احقا\", \"انا\" ,\"ابي\" ,\"امي\", \"نعم\" ,\"لا\", \"مساعدة\" ,\"من فضلك\" ,\"شكرا-لك\", \"اريد\" ,\"ماذا\" ,\"كلب\" ,\"قطة\", \"تكرارا\" ,\"طعام\" ,\"حليب\", \"المزيد\" ,\"ذاهب-الي\" ,\"الحمام\" ,\"بخير\" ,\"مثل\" ,\"يتعلم\", \"اشارة\", \"انتهي\"\n",
        "])\n",
        "\n",
        "# Thirty videos worth of data\n",
        "no_sequences = 40\n",
        "\n",
        "# Videos are going to be 30 frames in length\n",
        "sequence_length = 30\n",
        "\n",
        "# Folder start\n",
        "start_folder = 30"
      ]
    },
    {
      "cell_type": "markdown",
      "source": [
        "# Collect the Dataset by record the signs"
      ],
      "metadata": {
        "id": "M0BPnOe9qaBo"
      },
      "id": "M0BPnOe9qaBo"
    },
    {
      "cell_type": "code",
      "execution_count": null,
      "id": "726ed837",
      "metadata": {
        "id": "726ed837"
      },
      "outputs": [],
      "source": [
        "for action in actions:\n",
        "    for sequence in range(160,200):\n",
        "        try:\n",
        "            os.makedirs(os.path.join(DATA_PATH, action, str(sequence)))\n",
        "        except:\n",
        "            pass"
      ]
    },
    {
      "cell_type": "code",
      "execution_count": null,
      "id": "3b7fcd07",
      "metadata": {
        "id": "3b7fcd07"
      },
      "outputs": [],
      "source": [
        "cap = cv2.VideoCapture(0)\n",
        "# Set mediapipe model\n",
        "with mp_holistic.Holistic(min_detection_confidence=0.5, min_tracking_confidence=0.5) as holistic:\n",
        "\n",
        "    # NEW LOOP\n",
        "    # Loop through actions\n",
        "    for action in [actions[24]]:\n",
        "        # Loop through sequences aka videos\n",
        "        for sequence in range(160,200):\n",
        "            # Loop through video length aka sequence length\n",
        "            for frame_num in range(sequence_length):\n",
        "\n",
        "                # Read feed\n",
        "                ret, frame = cap.read()\n",
        "\n",
        "                # Make detections\n",
        "                image, results = mediapipe_detection(frame, holistic)\n",
        "#                 print(results)\n",
        "\n",
        "                # Draw landmarks\n",
        "                draw_styled_landmarks(image, results)\n",
        "\n",
        "                # NEW Apply wait logic\n",
        "                if frame_num == 0:\n",
        "                    cv2.putText(image, 'STARTING COLLECTION', (120,200),\n",
        "                               cv2.FONT_HERSHEY_SIMPLEX, 1, (0,255, 0), 4, cv2.LINE_AA)\n",
        "                    cv2.putText(image, 'Collecting frames for {} Video Number {}'.format(action, sequence), (15,12),\n",
        "                               cv2.FONT_HERSHEY_SIMPLEX, 0.5, (0, 0, 255), 1, cv2.LINE_AA)\n",
        "                    # Show to screen\n",
        "                    cv2.imshow('OpenCV Feed', image)\n",
        "                    cv2.waitKey(2000)\n",
        "                else:\n",
        "                    cv2.putText(image, 'Collecting frames for {} Video Number {}'.format(action, sequence), (15,12),\n",
        "                               cv2.FONT_HERSHEY_SIMPLEX, 0.5, (0, 0, 255), 1, cv2.LINE_AA)\n",
        "                    # Show to screen\n",
        "                    cv2.imshow('OpenCV Feed', image)\n",
        "\n",
        "                # NEW Export keypoints\n",
        "                keypoints = extract_keypoints(results)\n",
        "                npy_path = os.path.join(DATA_PATH, action, str(sequence), str(frame_num))\n",
        "                np.save(npy_path, keypoints)\n",
        "\n",
        "                # Break gracefully\n",
        "                if cv2.waitKey(10) & 0xFF == ord('q'):\n",
        "                    break\n",
        "\n",
        "    cap.release()\n",
        "    cv2.destroyAllWindows()\n"
      ]
    },
    {
      "cell_type": "markdown",
      "source": [
        "# Preprocessing dataset"
      ],
      "metadata": {
        "id": "fQy0NkYoqo9E"
      },
      "id": "fQy0NkYoqo9E"
    },
    {
      "cell_type": "markdown",
      "source": [
        "## data label encoding"
      ],
      "metadata": {
        "id": "YYxsxkpmqxcW"
      },
      "id": "YYxsxkpmqxcW"
    },
    {
      "cell_type": "code",
      "execution_count": null,
      "id": "eec945d6",
      "metadata": {
        "id": "eec945d6"
      },
      "outputs": [],
      "source": [
        "from tensorflow.keras.utils import to_categorical"
      ]
    },
    {
      "cell_type": "code",
      "execution_count": null,
      "id": "cc2eeb90",
      "metadata": {
        "id": "cc2eeb90"
      },
      "outputs": [],
      "source": [
        "label_map = {label:num for num, label in enumerate(actions)}"
      ]
    },
    {
      "cell_type": "code",
      "execution_count": null,
      "id": "214b248b",
      "metadata": {
        "id": "214b248b",
        "outputId": "451ae56b-10d3-407a-f1c4-749637b47570"
      },
      "outputs": [
        {
          "data": {
            "text/plain": [
              "{'اهلا': 0,\n",
              " 'اراك-احقا': 1,\n",
              " 'انا': 2,\n",
              " 'ابي': 3,\n",
              " 'امي': 4,\n",
              " 'نعم': 5,\n",
              " 'لا': 6,\n",
              " 'مساعدة': 7,\n",
              " 'من فضلك': 8,\n",
              " 'شكرا-لك': 9,\n",
              " 'اريد': 10,\n",
              " 'ماذا': 11,\n",
              " 'كلب': 12,\n",
              " 'قطة': 13,\n",
              " 'تكرارا': 14,\n",
              " 'طعام': 15,\n",
              " 'حليب': 16,\n",
              " 'المزيد': 17,\n",
              " 'ذاهب-الي': 18,\n",
              " 'الحمام': 19,\n",
              " 'بخير': 20,\n",
              " 'مثل': 21,\n",
              " 'يتعلم': 22,\n",
              " 'اشارة': 23,\n",
              " 'انتهي': 24}"
            ]
          },
          "execution_count": 33,
          "metadata": {},
          "output_type": "execute_result"
        }
      ],
      "source": [
        "label_map"
      ]
    },
    {
      "cell_type": "code",
      "execution_count": null,
      "id": "74808f63",
      "metadata": {
        "id": "74808f63"
      },
      "outputs": [],
      "source": [
        "sequences, labels = [], []\n",
        "for action in actions:\n",
        "    for sequence in np.array(os.listdir(os.path.join(DATA_PATH, action))).astype(int):\n",
        "        window = []\n",
        "        for frame_num in range(sequence_length):\n",
        "            res = np.load(os.path.join(DATA_PATH, action, str(sequence), \"{}.npy\".format(frame_num)))\n",
        "            window.append(res)\n",
        "        sequences.append(window)\n",
        "        labels.append(label_map[action])"
      ]
    },
    {
      "cell_type": "code",
      "execution_count": null,
      "id": "51298761",
      "metadata": {
        "id": "51298761"
      },
      "outputs": [],
      "source": [
        "np.array(sequences).shape"
      ]
    },
    {
      "cell_type": "markdown",
      "source": [
        "# Training LSTM Model"
      ],
      "metadata": {
        "id": "XhAF6GTaq70c"
      },
      "id": "XhAF6GTaq70c"
    },
    {
      "cell_type": "code",
      "execution_count": null,
      "id": "c69c00f0",
      "metadata": {
        "id": "c69c00f0"
      },
      "outputs": [],
      "source": [
        "X = np.array(sequences)"
      ]
    },
    {
      "cell_type": "code",
      "execution_count": null,
      "id": "b277ecca",
      "metadata": {
        "id": "b277ecca"
      },
      "outputs": [],
      "source": [
        "y = to_categorical(labels).astype(int)"
      ]
    },
    {
      "cell_type": "code",
      "source": [
        "from sklearn.model_selection import train_test_split"
      ],
      "metadata": {
        "id": "kh4Ttl30q_3R"
      },
      "id": "kh4Ttl30q_3R",
      "execution_count": null,
      "outputs": []
    },
    {
      "cell_type": "code",
      "execution_count": null,
      "id": "b58e18c4",
      "metadata": {
        "id": "b58e18c4"
      },
      "outputs": [],
      "source": [
        "X_train, X_test, y_train, y_test = train_test_split(X, y, test_size=0.05)"
      ]
    },
    {
      "cell_type": "code",
      "execution_count": null,
      "id": "92958b89",
      "metadata": {
        "id": "92958b89"
      },
      "outputs": [],
      "source": [
        "model = Sequential()\n",
        "model.add(LSTM(64, return_sequences=True, activation='relu', input_shape=(30,1662)))\n",
        "model.add(LSTM(128, return_sequences=True, activation='relu'))\n",
        "model.add(LSTM(64, return_sequences=False, activation='relu'))\n",
        "model.add(Dense(64, activation='relu'))\n",
        "model.add(Dense(32, activation='relu'))\n",
        "model.add(Dense(actions.shape[0], activation='softmax'))"
      ]
    },
    {
      "cell_type": "code",
      "execution_count": null,
      "id": "4b28b1bc",
      "metadata": {
        "id": "4b28b1bc"
      },
      "outputs": [],
      "source": [
        "model.compile(optimizer=tf.keras.optimizers.Adam(learning_rate = 0.001), loss='categorical_crossentropy', metrics=['categorical_accuracy'])"
      ]
    },
    {
      "cell_type": "code",
      "execution_count": null,
      "id": "5d43d26f",
      "metadata": {
        "scrolled": false,
        "id": "5d43d26f",
        "outputId": "5d42f78f-a52f-4383-e7f8-4ec404002445"
      },
      "outputs": [
        {
          "name": "stdout",
          "output_type": "stream",
          "text": [
            "Epoch 1/500\n"
          ]
        }
      ],
      "source": [
        "model.fit(X_train, y_train, epochs=500, batch_size=128)"
      ]
    },
    {
      "cell_type": "code",
      "execution_count": null,
      "id": "534fb983",
      "metadata": {
        "id": "534fb983"
      },
      "outputs": [],
      "source": [
        "res = model.predict(X_train)\n",
        "actions[np.argmax(res[4])]"
      ]
    },
    {
      "cell_type": "markdown",
      "source": [
        "## Load the model"
      ],
      "metadata": {
        "id": "vuIf2XElrUlS"
      },
      "id": "vuIf2XElrUlS"
    },
    {
      "cell_type": "code",
      "execution_count": null,
      "id": "7e4b4c47",
      "metadata": {
        "id": "7e4b4c47"
      },
      "outputs": [],
      "source": [
        "model.load_weights('gp_model.h5')"
      ]
    },
    {
      "cell_type": "markdown",
      "source": [
        "# Calculate accuracy and summary"
      ],
      "metadata": {
        "id": "FdpZgg4OrYjj"
      },
      "id": "FdpZgg4OrYjj"
    },
    {
      "cell_type": "code",
      "execution_count": null,
      "id": "6f6a7a79",
      "metadata": {
        "id": "6f6a7a79"
      },
      "outputs": [],
      "source": [
        "from sklearn.metrics import multilabel_confusion_matrix, accuracy_score\n",
        "\n",
        "yhat = model.predict(X_test)\n",
        "ytrue = np.argmax(y_test, axis=1).tolist()\n",
        "yhat = np.argmax(yhat, axis=1).tolist()"
      ]
    },
    {
      "cell_type": "code",
      "execution_count": null,
      "id": "b13d9047",
      "metadata": {
        "id": "b13d9047"
      },
      "outputs": [],
      "source": [
        "multilabel_confusion_matrix(ytrue, yhat)"
      ]
    },
    {
      "cell_type": "code",
      "execution_count": null,
      "id": "3735f314",
      "metadata": {
        "scrolled": true,
        "id": "3735f314"
      },
      "outputs": [],
      "source": [
        "accuracy_score(ytrue, yhat)"
      ]
    },
    {
      "cell_type": "code",
      "execution_count": null,
      "id": "44592b31",
      "metadata": {
        "id": "44592b31"
      },
      "outputs": [],
      "source": [
        "model.summary()"
      ]
    }
  ],
  "metadata": {
    "kernelspec": {
      "display_name": "Python 3 (ipykernel)",
      "language": "python",
      "name": "python3"
    },
    "language_info": {
      "codemirror_mode": {
        "name": "ipython",
        "version": 3
      },
      "file_extension": ".py",
      "mimetype": "text/x-python",
      "name": "python",
      "nbconvert_exporter": "python",
      "pygments_lexer": "ipython3",
      "version": "3.9.7"
    },
    "colab": {
      "provenance": []
    }
  },
  "nbformat": 4,
  "nbformat_minor": 5
}